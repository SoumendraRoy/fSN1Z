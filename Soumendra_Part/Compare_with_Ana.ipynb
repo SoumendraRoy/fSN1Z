{
 "cells": [
  {
   "cell_type": "markdown",
   "id": "dbc194d2-aa31-4275-a925-b95d98cfbb71",
   "metadata": {},
   "source": [
    "# Preamble"
   ]
  },
  {
   "cell_type": "code",
   "execution_count": 1,
   "id": "61da282e-2b64-47f0-9076-4ea4b4c4f93b",
   "metadata": {},
   "outputs": [],
   "source": [
    "import numpy as np\n",
    "import matplotlib.pyplot as plt\n",
    "from scipy.stats import maxwell, gaussian_kde\n",
    "from scipy import stats\n",
    "import astropy.constants as cons\n",
    "import h5py\n",
    "import seaborn as sns"
   ]
  },
  {
   "cell_type": "markdown",
   "id": "ada8601b-0e8d-419c-b224-00d0c5a9080f",
   "metadata": {},
   "source": [
    "# Functions"
   ]
  },
  {
   "cell_type": "markdown",
   "id": "41cd810e-455d-4173-94a1-b177e5d64011",
   "metadata": {},
   "source": [
    "### Orbital Velocity ($v_{orb}$)\n",
    "Two masses $m_1$ and $m_2$ are in binary. For $m_1$, the orbital velocity is $v_{orb,1}$ and period $P$. The separation between $m_1$ and $m_2$ is $a$.\n",
    "$$\n",
    "\\frac{\\mu v_{orb,1}^2}{a} = \\frac{Gm_1m_2}{a^2}\n",
    "$$\n",
    "where $\\mu$ is the reduced mass $\\frac{m_1m_2}{m_1+m_2}$. Hence\n",
    "$$\n",
    "v_{orb,1}^2 = \\frac{G(m_1+m_2)}{a} = \\frac{Gm_1(1+Q)}{a} = \\frac{G.(M_{\\odot}\\text{ in kg})}{(\\text{AU in m})} \\Big( \\frac{m_1}{M_{\\odot}} \\Big) \\Big( \\frac{a}{AU} \\Big)^{-1} (1+Q)\n",
    "$$\n",
    "$Q$ is the mass ratio $m_2/m_1$."
   ]
  },
  {
   "cell_type": "code",
   "execution_count": 2,
   "id": "75974c27-7355-42e3-858f-7d19a6a8413c",
   "metadata": {},
   "outputs": [],
   "source": [
    "def func_vorb(m1, Q, a):\n",
    "    '''\n",
    "    Computes orbital velocity of each of the neutron stars\n",
    "    Args:\n",
    "        m1: primary mass\n",
    "        Q: mass ratio\n",
    "        a: separation\n",
    "    Returns:\n",
    "        vorb: array of orbital velocities of each of the neutron stars\n",
    "    '''\n",
    "    \n",
    "    AU_to_m = 1.496e+11\n",
    "    Solar_M_in_kg = 1.989e+30\n",
    "\n",
    "    return ((cons.G.value*Solar_M_in_kg/AU_to_m) * m1 * (1+Q) / a)**0.5/1000 # km/s"
   ]
  },
  {
   "cell_type": "markdown",
   "id": "2255f4c9-0fec-46ae-86ce-f6475eca9199",
   "metadata": {},
   "source": [
    "### Kick Velocity ($v_{kick}$)\n",
    "The kick velocity, $v_{kick}$ is assumed to be Maxellian with $\\sigma_{kick}=265 km/s$ (consistent with Hobbs et al. 2005)."
   ]
  },
  {
   "cell_type": "code",
   "execution_count": 3,
   "id": "be9bff18-87c4-4400-a539-922bd2743ea9",
   "metadata": {},
   "outputs": [],
   "source": [
    "def func_vkick(vorb, sigma_kick = 265, fallback_fraction = 0.0):\n",
    "    '''\n",
    "    draw a natal-kick from a Maxwell-Boltzmann distribution\n",
    "    with sigma_kick = 265  # km/s\n",
    "    Args:\n",
    "        vorb: orbital velocity\n",
    "        sigma_kick: sigma of the Maxwell-Boltzmann distribution\n",
    "        fallback_fraction: fallback_fraction, default=0\n",
    "    Returns:\n",
    "        vkick: array of kick velocities of each of the neutron stars\n",
    "    '''\n",
    "\n",
    "    return maxwell(loc=0., scale=sigma_kick).rvs(size=vorb.shape[0]) # km/s"
   ]
  },
  {
   "cell_type": "markdown",
   "id": "c5ef2e2b-57ed-40f9-851b-74594e41272b",
   "metadata": {},
   "source": [
    "### Survival Probability of the Hevier Star in Binary from Supernova Natal Kick ($f_{SN1}$): the Main Function we Want to Calculate"
   ]
  },
  {
   "cell_type": "code",
   "execution_count": 4,
   "id": "a24900ad-c013-404a-b985-e62691ab0259",
   "metadata": {},
   "outputs": [],
   "source": [
    "def func_fSN1(vorb, vkick):\n",
    "    '''\n",
    "    Computes survival probability of the first neutron star\n",
    "    given the orbital velocity and kick velocity\n",
    "    Args:\n",
    "        vorb: orbital velocity\n",
    "        vkick: kick velocity\n",
    "    Returns:\n",
    "        fSN1: survival probability of the first neutron star\n",
    "    '''\n",
    "    \n",
    "    x = vkick - vorb\n",
    "    kernel = gaussian_kde(x)\n",
    "    return 1-kernel.integrate_box_1d(low=0, high=100000)"
   ]
  },
  {
   "cell_type": "markdown",
   "id": "75bfcfea-06d0-4b4f-9884-a78aba4a095c",
   "metadata": {},
   "source": [
    "### A Class to Draw Random Variables from Power Law\n",
    "Taken from: https://github.com/farr/BumpCosmology/blob/main/src/scripts/mock_injections.py"
   ]
  },
  {
   "cell_type": "code",
   "execution_count": 5,
   "id": "bed3defb-a84c-4018-a5ca-f94f35e0deef",
   "metadata": {},
   "outputs": [],
   "source": [
    "class PowerLawPDF(object): # Taken from https://github.com/farr/BumpCosmology/blob/main/src/scripts/mock_injections.py\n",
    "    def __init__(self, alpha, a, b):\n",
    "        assert alpha > 1\n",
    "\n",
    "        self.alpha = alpha\n",
    "        self.a = a\n",
    "        self.b = b\n",
    "\n",
    "        self.norm = (self.a - (self.a/self.b)**self.alpha*self.b)/(self.a*(self.alpha-1))\n",
    "\n",
    "    def __call__(self, x):\n",
    "        return (self.a/x)**self.alpha/self.a/self.norm\n",
    "    \n",
    "    def icdf(self, c):\n",
    "        return ((self.a**self.alpha*self.b*c + self.a*self.b**self.alpha*(1-c))/(self.a*self.b)**self.alpha)**(1/(1-self.alpha))\n",
    "\n",
    "rng = np.random.default_rng(333165393797366967556667466879860422123)"
   ]
  },
  {
   "cell_type": "markdown",
   "id": "dc6edb95-42b8-4c29-b436-a0d90278e762",
   "metadata": {},
   "source": [
    "### Wind Mass Loss\n",
    "Details of the functions: https://github.com/LiekeVanSon/ZdependentFormEff/blob/master/code/Vorb_vs_Vkick.ipynb"
   ]
  },
  {
   "cell_type": "code",
   "execution_count": 6,
   "id": "393aed08-60ba-4751-a61a-7755b1118c22",
   "metadata": {},
   "outputs": [],
   "source": [
    "###########################################\n",
    "# Computing the luminosity of a naked helium star\n",
    "###########################################\n",
    "# Hurley 2000 : the terminal age He-MS luminosity for a stripped star following Hurley\n",
    "def L_THEMS(M_hei):\n",
    "    \"\"\"\n",
    "    Hurley 2000\n",
    "    \"\"\"\n",
    "    # eq. 82\n",
    "    alpha = np.maximum(0, 0.85 - 0.08 * M_hei)\n",
    "\n",
    "    # eq. 77\n",
    "    L_ZHe = (15262 * M_hei**10.25) / (\n",
    "        M_hei**9 + 29.54 * M_hei**7.5 + 31.18 * M_hei**6 + 0.0469\n",
    "    )\n",
    "\n",
    "    # L_THEMS eq. 80\n",
    "    L_THEMS = L_ZHe * (1 + 0.45 + alpha)\n",
    "\n",
    "    return L_THEMS  # L/Lsun\n",
    "\n",
    "\n",
    "def LM_Grafener2011(M, F1=3.017, F2=2.446, F3=-0.306):\n",
    "    \"\"\"Mass Luminosity relation for H-free stars\n",
    "    eq 10 in\n",
    "    https://arxiv.org/pdf/1106.5361.pdf\n",
    "    \"\"\"\n",
    "    logL_Lsun = F1 + F2 * np.log10(M) + F3 * np.log10(M) ** 2\n",
    "    return 10**logL_Lsun"
   ]
  },
  {
   "cell_type": "code",
   "execution_count": 7,
   "id": "6c4c1439-5d4c-432b-bcd3-64824b116aff",
   "metadata": {},
   "outputs": [
    {
     "name": "stdout",
     "output_type": "stream",
     "text": [
      "HamannKoesterke1998 at 1e5Lsun =  -5.5\n",
      "Vink2017 at Zsun and 1e4Lsun =  -7.86\n",
      "SanderVink2020 at Zsun and 2e5Lsun -5.494327973120155\n"
     ]
    }
   ],
   "source": [
    "###########################################\n",
    "# Different wind-mass-loss prescriptions\n",
    "###########################################\n",
    "# Hamman & Koesterke 1998 (old default COMPAS)\n",
    "def HamannKoesterke1998(L, Z, Zsun = 0.014, fWR=1.0):\n",
    "    \"\"\"\n",
    "    Eq 9 from Belczynski 2010\n",
    "    http://arxiv.org/abs/0904.2784\n",
    "    Should be based on Hamann & Koesterke 1998: (based on 62 WN stars)\n",
    "    https://ui.adsabs.harvard.edu/abs/1998A&A...335.1003H/abstract\n",
    "    But I never actually found this equation in here???\n",
    "    \"\"\"\n",
    "    Mdot = fWR * 1e-13 * (L / cons.L_sun) ** 1.5 * (Z / Zsun) ** 0.86\n",
    "    return np.log10(Mdot) # log10 Msun yr^-1\n",
    "\n",
    "print('HamannKoesterke1998 at 1e5Lsun = ', HamannKoesterke1998(1e5*cons.L_sun, 0.014, fWR=1.0) )\n",
    "\n",
    "##################\n",
    "# Vink 2017\n",
    "def Vink2017(L, Z, Zsun=0.014):\n",
    "    \"\"\"\n",
    "    Equation 1 in Vink 2017\n",
    "    Theoretical mass loss rates for He stars in the range 2-20 Msun\n",
    "    https://arxiv.org/abs/1710.02010\n",
    "    Derived for Z/Zsun = 1 − 1e−2 and mass range 2 - 60 Msun\n",
    "    \"\"\"\n",
    "    logL = np.log10(L / cons.L_sun)\n",
    "    logMdot = -13.3 + 1.36 * logL + 0.61 * np.log10(Z / Zsun)\n",
    "\n",
    "    return logMdot\n",
    "\n",
    "print('Vink2017 at Zsun and 1e4Lsun = ', Vink2017(1e4*cons.L_sun, 0.014, Zsun=0.014) )\n",
    "\n",
    "# Sander & Vink 2020\n",
    "def SanderVink2020(L, Z, Zsun = 0.014):\n",
    "    \"\"\"\n",
    "    Eq 13 and 18-20 in Andreas & Vink 2020\n",
    "    https://arxiv.org/abs/2009.01849\n",
    "    \n",
    "    + Temperature correction from Sander et al. 2023\n",
    "    https://www.aanda.org/articles/aa/full_html/2023/02/aa45110-22/aa45110-22.html\n",
    "\n",
    "    !! Takes L in L/Lsun, i.e. 2e5,  (many values return NAN)\n",
    "\n",
    "    \"\"\"\n",
    "    # Mass lumminosity relation for nakeed He stars\n",
    "    # L = 170761.47525570545 #LM_Grafener2011(M, F1 = 3.017, F2=2.446, F3 = -0.306) #L/Lsun\n",
    "    # print('for M = ', M, 'L = ', L)\n",
    "    # general wind mass loss prescription\n",
    "    alpha      = 0.32 * np.log10(Z/Zsun) + 1.4\n",
    "    logL0_Lsun = -0.87*np.log10(Z/Zsun) + 5.06 \n",
    "    logMdot10  = -0.75 * np.log10(Z/Zsun) - 4.06 \n",
    "    \n",
    "    log_Mdot2020   = alpha * np.log10(np.log10(L) - logL0_Lsun) + 0.75 * (np.log10(L) - logL0_Lsun - 1.0) + logMdot10\n",
    "\n",
    "    # Temperature correction to the SanderVink2020 prescription # I dont have Teff for now\n",
    "    # if Teff > 1e5:\n",
    "        # M_SV2023 = M_SV2020 - 6 * np.log10( Teff/(141 *1e3) )\n",
    "    logMdot = log_Mdot2020 #- 6 * np.log10(1e5/(141 *1e3) )\n",
    "\n",
    "    return  logMdot # log10 Msun yr^-1\n",
    "\n",
    "print('SanderVink2020 at Zsun and 2e5Lsun', SanderVink2020(2e5, 0.014, Zsun=0.014) )\n",
    "\n",
    "\n",
    "# Combined WR winds for low and high L combining Vink 2017 + Sander & Vink 2020\n",
    "def WRwind_SV(L, Z, Zsun=0.014):\n",
    "    \"\"\"\n",
    "    Combined WR wind prescription for low and high luminosity\n",
    "    \"\"\"\n",
    "    M_vink2017 = Vink2017(L*cons.L_sun, Z, Zsun=Zsun) #log10(Mdot)\n",
    "    # print('M_vink2017',M_vink2017)\n",
    "    M_SV2020 = SanderVink2020(L, Z, Zsun=Zsun) #log10(Mdot)\n",
    "    # print('M_SV2020', M_SV2020)\n",
    "\n",
    "    # Replace NaN values with small number\n",
    "    M_vink2017 = np.where(np.isnan(M_vink2017), -99, M_vink2017)\n",
    "    M_SV2020 = np.where(np.isnan(M_SV2020), -99, M_SV2020)\n",
    "\n",
    "    return np.maximum(M_vink2017, M_SV2020) #log10(Mdot)"
   ]
  },
  {
   "cell_type": "code",
   "execution_count": 8,
   "id": "4e3ad901-bfa8-4289-a89a-f9a782656792",
   "metadata": {},
   "outputs": [],
   "source": [
    "###########################################\n",
    "# Computing the mass losst \n",
    "###########################################\n",
    "# estimate of total mass lost from WR-like winds during the He-MS phase\n",
    "from cProfile import label\n",
    "\n",
    "\n",
    "def dM_wind(M_He_i, Z, L_hestar = 'Hurley', WR_wind = 'SanderVink'):\n",
    "    \"\"\"\n",
    "    !!! Make sure to provide:\n",
    "    M_he in Msun\n",
    "    Z         ----- Metallicity   \n",
    "    L_hestar  ----- What M-L relation to use ['Hurley', Grafener2011]\n",
    "    WR_wind   ----- What WR wind mass loss to use [HamannKoest, 'SanderVink']\n",
    "    \"\"\"\n",
    "\n",
    "    # Compute He star luminosity from the mass\n",
    "    if L_hestar == 'Hurley':\n",
    "        L_Lsun = L_THEMS(M_He_i)    # 10**5.4 #/cons.L_sun.value # Lsun  (taken from Spera + 2019 SEVN paper, fig 1)\n",
    "    if L_hestar == 'Grafener2011':\n",
    "        L_Lsun = LM_Grafener2011(M_He_i)\n",
    "    # print( 'log10 L_Lsun', np.log10(L_Lsun), '\\n')\n",
    "\n",
    "    # Calculate He main sequence time\n",
    "    tau_He_MS = 2.9e9 * (M_He_i) * L_Lsun**-1 #(L_sun/L)  # in years\n",
    "    # print('tau_He_MS', tau_He_MS*1e-6, 'Myr \\n')\n",
    "\n",
    "    if WR_wind == 'SanderVink':\n",
    "        dotM_WR = 10**WRwind_SV(L_Lsun, Z, Zsun = 0.014)\n",
    "    elif WR_wind == 'HamannKoest':\n",
    "        dotM_WR = 10**HamannKoesterke1998(L_Lsun*cons.L_sun, Z, fWR = 1.).value\n",
    "    else:\n",
    "        raise ValueError('WR wind prescription not recognized')\n",
    "\n",
    "    # print('log $\\dot{M}_{WR}$', np.log10(dotM_WR) )\n",
    "\n",
    "    dM_wind = tau_He_MS * dotM_WR\n",
    "\n",
    "    return dM_wind # Msun"
   ]
  },
  {
   "cell_type": "markdown",
   "id": "7b85339f-684c-4f24-b1ab-51fcf2031c7c",
   "metadata": {},
   "source": [
    "### Primary Mass ($m_1$), Mass Ratio (q), and Separation (a) Post First Mass Transfer"
   ]
  },
  {
   "cell_type": "markdown",
   "id": "aba3a78e-8884-404f-a315-39210cc7d6dc",
   "metadata": {},
   "source": [
    "#### Without Wind Mass Loss"
   ]
  },
  {
   "cell_type": "markdown",
   "id": "b010fbe3-a387-46c2-a988-bbe9ac010bce",
   "metadata": {},
   "source": [
    "#### Primary Mass ($m_1$)\n",
    "ZAMS mass follows Kroupa (written in $M_{\\odot}$),\n",
    "$$\n",
    "m_{1,i} \\sim \\texttt{Kroupa}\n",
    "$$\n",
    "and we select only those $m_{1,i}$ which are in the bound $[6M_{\\odot}, 20M_{\\odot}]$ as this is the relevent range of neutron star formation with some uncertainty.\n",
    "\n",
    "Post first mass-transfer,\n",
    "$$\n",
    "m_1 = f_{core}m_{1,i}\n",
    "$$\n",
    "Default value is:\n",
    "$$\n",
    "f_{core} = 0.35\n",
    "$$"
   ]
  },
  {
   "cell_type": "markdown",
   "id": "4161378a-753a-4a8c-aafb-0c77191ef270",
   "metadata": {},
   "source": [
    "#### Mass Ratio (Q):\n",
    "ZAMS mass ratio follows uniform distribution (the lower bound is set to $0.01$ such that secondary ZAMS mass is $0.01M_{\\odot}$),\n",
    "$$\n",
    "Q_i \\sim \\texttt{Uniform}(0.01, 1)\n",
    "$$\n",
    "Post first mass-transfer,\n",
    "$$\n",
    "Q = \\frac{m_{2,i}+\\beta m_{1,i}(1-f_{core})}{f_{core}m_{1,i}} = \\frac{Q_i+\\beta(1-f_{core})}{f_{core}}\n",
    "$$\n",
    "$\\beta$ is the mass transfer efficiency.\n",
    "\n",
    "Default value is\n",
    "$$\n",
    "\\beta=0.5\n",
    "$$\n",
    "\n",
    "NOTE: We define $Q_i<1$. During the mass-transfer it can be greater $1$, as we already defined primary mass and secondary mass in ZAMS phase."
   ]
  },
  {
   "cell_type": "markdown",
   "id": "b7e2e761-426d-4c50-9700-8e074aecae8c",
   "metadata": {},
   "source": [
    "#### Separation ($a$):\n",
    "In ZAMS phase, logarithm of separtion is uniform,\n",
    "$$\n",
    "\\log a_i \\sim \\texttt{Uniform}(\\log 0.01, \\log 1000)\n",
    "$$\n",
    "Post first transfer,\n",
    "$$\n",
    "a = \\frac{a_i}{f_{core}^2}\\Big( \\frac{Q+1}{f_{core}Q+1} \\Big)exp(2Q(f_{core}-1))\n",
    "$$"
   ]
  },
  {
   "cell_type": "code",
   "execution_count": 9,
   "id": "5ac90f63-d228-4cc8-8d91-9448e24d2860",
   "metadata": {},
   "outputs": [],
   "source": [
    "def func_m1Qa_wo_WML(powerlawindex, mmin, mmax, mNSmin, mNSmax, qmin, qmax, logamin, logamax, fcore, beta, ndraw=10**7):\n",
    "    '''\n",
    "    function to determine primary mass, mass ratio, and separation\n",
    "    Args:\n",
    "        powerlawindex: power law index of intial mass function\n",
    "        mmin: minimum mass of intial mass function\n",
    "        mmax: maximum mass of intial mass function\n",
    "        mNSmin: minimum ZAMS mass required to form NS\n",
    "        mNSmax: maximum ZAMS mass required to form NS\n",
    "        qmin: minimum mass-ratio of the initial mass ratio distribution\n",
    "        qmax: maximum mass-ratio of the initial mass ratio distribution\n",
    "        logamin: logarithm of the minimum separation of initial separation distribution\n",
    "        logamax: logarithm of the maximum separation of initial separation distribution\n",
    "        fcore: fraction of mass forming core\n",
    "        beta: mass-transfer efficiency\n",
    "    Returns:\n",
    "        m1, Q, a: array of primary mass, mass-ratio, separation post first mass-transfer\n",
    "    '''\n",
    "\n",
    "    m1i = PowerLawPDF(powerlawindex, mmin, mmax).icdf(rng.uniform(low=0, high=1, size=ndraw)) # Solar mass\n",
    "    m1i = m1i[m1i>mNSmin]\n",
    "    m1i = m1i[m1i<mNSmax]\n",
    "    m1 = fcore*m1i\n",
    "    ndraw = m1.shape[0]\n",
    "    \n",
    "    Qi = np.random.uniform(0.01, 1.0, size=ndraw)\n",
    "    Q = (Qi+beta*(1-fcore))/fcore\n",
    "    \n",
    "    logai = rng.uniform(low=np.log(0.01), high=np.log(1000), size=ndraw) # AU\n",
    "    ai = np.exp(logai)\n",
    "    a = ai*(1/fcore**2)*((Q+1)/(fcore*Q+1))*np.exp(2*Q*(fcore-1))\n",
    "\n",
    "    return m1, Q, a"
   ]
  },
  {
   "cell_type": "markdown",
   "id": "553a9215-9f96-4e2d-827e-9ac40a7951c7",
   "metadata": {},
   "source": [
    "#### With Wind Mass Loss"
   ]
  },
  {
   "cell_type": "markdown",
   "id": "402be4b5-4e82-489d-b19d-ac9830dd6f2d",
   "metadata": {},
   "source": [
    "Due to wind let's say $\\Delta M$ mass is lost. Before the wind mass loss binary parameters are: $(m_1, Q, a)$ and after the wind mass loss binary parameters are: $(m_1^{\\prime}, Q^{\\prime}, a^{\\prime})$. Now\n",
    "$$\n",
    "m_1^{\\prime} = m_1 - \\Delta M (m_1, Z)\n",
    "$$\n",
    "Z is the metallicity at which the first mass transfer is happening.\n",
    "\n",
    "New mass ratio $Q^{\\prime}$ should be\n",
    "$$\n",
    "Q^{\\prime} = \\frac{Qm_1-\\Delta M(Qm_1, Z)}{m_1}\n",
    "$$\n",
    "\n",
    "Using angular momentum conservation and assuming Jean's mode for the mass loss, new separation ($a^{\\prime}$) will be,\n",
    "$$\n",
    "a^{\\prime} = \\frac{a(m_1+Qm_1)}{(m^{\\prime}_1+Q^{\\prime}m^{\\prime}_1)}\n",
    "$$"
   ]
  },
  {
   "cell_type": "code",
   "execution_count": 10,
   "id": "19833a03-5cff-4330-9e19-ca4e7a59499c",
   "metadata": {},
   "outputs": [],
   "source": [
    "def func_m1Qa_w_WML(m1_before_mass_loss, Q_before_mass_loss, a_before_mass_loss, Z, L_hestar = 'Hurley', WR_wind = 'SanderVink'):\n",
    "    \n",
    "    wind_mass_loss = dM_wind(m1_before_mass_loss, Z)\n",
    "    m1 = m1_before_mass_loss - wind_mass_loss\n",
    "    Q = (Q_before_mass_loss*m1_before_mass_loss - dM_wind(Q_before_mass_loss*m1_before_mass_loss, Z))/m1\n",
    "    a =  a_before_mass_loss * ((m1_before_mass_loss + Q_before_mass_loss*m1_before_mass_loss) / (m1 + Q*m1))\n",
    "    \n",
    "    return m1, Q, a"
   ]
  },
  {
   "cell_type": "markdown",
   "id": "eac6fd16-006a-456b-95ec-fee1d03b860e",
   "metadata": {},
   "source": [
    "# Computation"
   ]
  },
  {
   "cell_type": "code",
   "execution_count": 13,
   "id": "7bf6f146-6779-439e-b9ba-2690668892ea",
   "metadata": {},
   "outputs": [
    {
     "data": {
      "image/png": "[encoded data removed]",
      "text/plain": [
       "<Figure size 640x480 with 1 Axes>"
      ]
     },
     "metadata": {},
     "output_type": "display_data"
    }
   ],
   "source": [
    "sns.set(font_scale=1)\n",
    "plt.figure()\n",
    "xlabel = np.array(['Fiducial', r'$\\beta=0.25$', r'$\\beta=0.5$', r'$\\beta=0.75$', \n",
    "                   r'$\\sigma_{kick}=100$', r'$\\sigma_{kick}=30$'])\n",
    "ylabel = np.zeros(len(xlabel))\n",
    "\n",
    "# Fiducial\n",
    "m1, Q, a = func_m1Qa_wo_WML(powerlawindex=2.7, mmin=1.0, mmax=300.0, mNSmin=6.0, mNSmax=20.0, qmin=0.2, qmax=1.0,\n",
    "              logamin=np.log(0.01), logamax=np.log(1000), fcore=0.35, beta=0.5)\n",
    "vorb = func_vorb(m1, Q, a)\n",
    "vkick = func_vkick(vorb)\n",
    "ylabel[np.where(np.array(xlabel)=='Fiducial')] = func_fSN1(vorb, vkick)\n",
    "\n",
    "# beta=0.25\n",
    "m1, Q, a = func_m1Qa_wo_WML(powerlawindex=2.7, mmin=1.0, mmax=300.0, mNSmin=6.0, mNSmax=20.0, qmin=0.2, qmax=1.0,\n",
    "              logamin=np.log(0.01), logamax=np.log(1000), fcore=0.35, beta=0.25)\n",
    "vorb = func_vorb(m1, Q, a)\n",
    "vkick = func_vkick(vorb)\n",
    "ylabel[np.where(np.array(xlabel)==r'$\\beta=0.25$')] = func_fSN1(vorb, vkick)\n",
    "\n",
    "# beta=0.5\n",
    "m1, Q, a = func_m1Qa_wo_WML(powerlawindex=2.7, mmin=1.0, mmax=300.0, mNSmin=6.0, mNSmax=20.0, qmin=0.2, qmax=1.0,\n",
    "              logamin=np.log(0.01), logamax=np.log(1000), fcore=0.35, beta=0.5)\n",
    "vorb = func_vorb(m1, Q, a)\n",
    "vkick = func_vkick(vorb)\n",
    "ylabel[np.where(np.array(xlabel)==r'$\\beta=0.5$')] = func_fSN1(vorb, vkick)\n",
    "\n",
    "# beta=0.75\n",
    "m1, Q, a = func_m1Qa_wo_WML(powerlawindex=2.7, mmin=1.0, mmax=300.0, mNSmin=6.0, mNSmax=20.0, qmin=0.2, qmax=1.0,\n",
    "              logamin=np.log(0.01), logamax=np.log(1000), fcore=0.35, beta=0.75)\n",
    "vorb = func_vorb(m1, Q, a)\n",
    "vkick = func_vkick(vorb)\n",
    "ylabel[np.where(np.array(xlabel)==r'$\\beta=0.75$')] = func_fSN1(vorb, vkick)\n",
    "\n",
    "# sigma kick=100\n",
    "m1, Q, a = func_m1Qa_wo_WML(powerlawindex=2.7, mmin=1.0, mmax=300.0, mNSmin=6.0, mNSmax=20.0, qmin=0.2, qmax=1.0,\n",
    "              logamin=np.log(0.01), logamax=np.log(1000), fcore=0.35, beta=0.5)\n",
    "vorb = func_vorb(m1, Q, a)\n",
    "vkick = func_vkick(vorb, sigma_kick=100)\n",
    "ylabel[np.where(np.array(xlabel)==r'$\\sigma_{kick}=100$')] = func_fSN1(vorb, vkick)\n",
    "\n",
    "# sigma kick=30\n",
    "m1, Q, a = func_m1Qa_wo_WML(powerlawindex=2.7, mmin=1.0, mmax=300.0, mNSmin=6.0, mNSmax=20.0, qmin=0.2, qmax=1.0,\n",
    "              logamin=np.log(0.01), logamax=np.log(1000), fcore=0.35, beta=0.5)\n",
    "vorb = func_vorb(m1, Q, a)\n",
    "vkick = func_vkick(vorb, sigma_kick=30)\n",
    "ylabel[np.where(np.array(xlabel)==r'$\\sigma_{kick}=30$')] = func_fSN1(vorb, vkick)\n",
    "\n",
    "# Plot\n",
    "plt.scatter(xlabel, ylabel, color='blue', label='Analytical Model')\n",
    "#plt.scatter(xlabel, ylabel1, color='brown', label=r'$Corr(m_2, z)$')\n",
    "#plt.axhline(rm1z[0], color='blue')\n",
    "#plt.axhline(rm2z[0], color='brown')\n",
    "plt.xticks(rotation=55)\n",
    "plt.xlabel('Simulation Variants')\n",
    "plt.ylabel(r'$f_{SN1}$')\n",
    "plt.legend(loc=2)\n",
    "plt.savefig('../plots/Compare_with_Ana.pdf')"
   ]
  },
  {
   "cell_type": "code",
   "execution_count": null,
   "id": "d1352a63-f07b-465d-8dd7-b20953198131",
   "metadata": {},
   "outputs": [],
   "source": []
  }
 ],
 "metadata": {
  "kernelspec": {
   "display_name": "popcosmo",
   "language": "python",
   "name": "popcosmo"
  },
  "language_info": {
   "codemirror_mode": {
    "name": "ipython",
    "version": 3
   },
   "file_extension": ".py",
   "mimetype": "text/x-python",
   "name": "python",
   "nbconvert_exporter": "python",
   "pygments_lexer": "ipython3",
   "version": "3.11.7"
  }
 },
 "nbformat": 4,
 "nbformat_minor": 5
}
