{
 "cells": [
  {
   "cell_type": "code",
   "execution_count": 1,
   "id": "ee11bc2a-3337-47e0-b3dd-9239d31fafc2",
   "metadata": {},
   "outputs": [],
   "source": [
    "import numpy as np\n",
    "import matplotlib.pyplot as plt\n",
    "from scipy.stats import maxwell, gaussian_kde\n",
    "from scipy import stats\n",
    "import astropy.constants as cons"
   ]
  },
  {
   "cell_type": "markdown",
   "id": "722edb37-f527-4ccf-a9de-a37bd41c2604",
   "metadata": {},
   "source": [
    "# Function"
   ]
  },
  {
   "cell_type": "code",
   "execution_count": 2,
   "id": "205460c7-934e-43e9-be30-d371cf894b1e",
   "metadata": {},
   "outputs": [],
   "source": [
    "class PowerLawPDF(object): # Taken from https://github.com/farr/BumpCosmology/blob/main/src/scripts/mock_injections.py\n",
    "    def __init__(self, alpha, a, b):\n",
    "        assert alpha > 1\n",
    "\n",
    "        self.alpha = alpha\n",
    "        self.a = a\n",
    "        self.b = b\n",
    "\n",
    "        self.norm = (self.a - (self.a/self.b)**self.alpha*self.b)/(self.a*(self.alpha-1))\n",
    "\n",
    "    def __call__(self, x):\n",
    "        return (self.a/x)**self.alpha/self.a/self.norm\n",
    "    \n",
    "    def icdf(self, c):\n",
    "        return ((self.a**self.alpha*self.b*c + self.a*self.b**self.alpha*(1-c))/(self.a*self.b)**self.alpha)**(1/(1-self.alpha))\n",
    "\n",
    "rng = np.random.default_rng(333165393797366967556667466879860422123)"
   ]
  },
  {
   "cell_type": "code",
   "execution_count": 3,
   "id": "735977c3-964b-4c42-be98-e516f9eef6ca",
   "metadata": {},
   "outputs": [],
   "source": [
    "def func_fSN1(vorb, vkick):\n",
    "    '''\n",
    "    Computes survival probability of the first neutron star\n",
    "    given the orbital velocity and kick velocity\n",
    "    Args:\n",
    "        vorb: orbital velocity\n",
    "        vkick: kick velocity\n",
    "    Returns:\n",
    "        fSN1: survival probability of the first neutron star\n",
    "    '''\n",
    "    \n",
    "    x = vkick - vorb\n",
    "    kernel = gaussian_kde(x)\n",
    "    return 1-kernel.integrate_box_1d(low=0, high=100000)"
   ]
  },
  {
   "cell_type": "code",
   "execution_count": 4,
   "id": "6ff39091-79b5-4c5b-8045-97a99761bfbc",
   "metadata": {},
   "outputs": [],
   "source": [
    "def func_vorb(m1, Q, a):\n",
    "    '''\n",
    "    Computes orbital velocity of each of the neutron stars\n",
    "    Args:\n",
    "        m1: primary mass\n",
    "        Q: mass ratio\n",
    "        a: separation\n",
    "    Returns:\n",
    "        vorb: array of orbital velocities of each of the neutron stars\n",
    "    '''\n",
    "    \n",
    "    AU_to_m = 1.496e+11\n",
    "    Solar_M_in_kg = 1.989e+30\n",
    "\n",
    "    return ((cons.G.value*Solar_M_in_kg/AU_to_m) * m1 * (1+Q) / a)**0.5/1000 # km/s"
   ]
  },
  {
   "cell_type": "code",
   "execution_count": 5,
   "id": "851017a2-7ba6-4012-84c4-106c00aeae08",
   "metadata": {},
   "outputs": [],
   "source": [
    "def func_vkick(vorb, sigma_kick = 265, fallback_fraction = 0.0):\n",
    "    '''\n",
    "    draw a natal-kick from a Maxwell-Boltzmann distribution\n",
    "    with sigma_kick = 265  # km/s\n",
    "    Args:\n",
    "        vorb: orbital velocity\n",
    "        sigma_kick: sigma of the Maxwell-Boltzmann distribution\n",
    "        fallback_fraction: fallback_fraction, default=0\n",
    "    Returns:\n",
    "        vkick: array of kick velocities of each of the neutron stars\n",
    "    '''\n",
    "\n",
    "    return maxwell(loc=0., scale=sigma_kick).rvs(size=vorb.shape[0]) # km/s"
   ]
  },
  {
   "cell_type": "code",
   "execution_count": 6,
   "id": "ce9a3af4-0a66-4b7a-971f-2e793547c3f0",
   "metadata": {},
   "outputs": [],
   "source": [
    "def func_m1Qa(powerlawindex, mmin, mmax, mNSmin, mNSmax, qmin, qmax, logamin, logamax, fcore, beta, ndraw=10**6):\n",
    "    '''\n",
    "    function to determine primary mass, mass ratio, and separation\n",
    "    Args:\n",
    "        powerlawindex: power law index of intial mass function\n",
    "        mmin: minimum mass of intial mass function\n",
    "        mmax: maximum mass of intial mass function\n",
    "        mNSmin: minimum ZAMS mass required to form NS\n",
    "        mNSmax: maximum ZAMS mass required to form NS\n",
    "        qmin: minimum mass-ratio of the initial mass ratio distribution\n",
    "        qmax: maximum mass-ratio of the initial mass ratio distribution\n",
    "        logamin: logarithm of the minimum separation of initial separation distribution\n",
    "        logamax: logarithm of the maximum separation of initial separation distribution\n",
    "        fcore: fraction of mass forming core\n",
    "        beta: mass-transfer efficiency\n",
    "    Returns:\n",
    "        m1, Q, a: array of primary mass, mass-ratio, separation post first mass-transfer\n",
    "    '''\n",
    "\n",
    "    m1i = PowerLawPDF(powerlawindex, mmin, mmax).icdf(rng.uniform(low=0, high=1, size=ndraw)) # Solar mass\n",
    "    m1i = m1i[m1i>mNSmin]\n",
    "    m1i = m1i[m1i<mNSmax]\n",
    "    m1 = fcore*m1i\n",
    "    ndraw = m1.shape[0]\n",
    "    \n",
    "    Qi = np.random.uniform(0.01, 1.0, size=ndraw)\n",
    "    Q = (Qi+beta*(1-fcore))/fcore\n",
    "    \n",
    "    logai = rng.uniform(low=np.log(0.01), high=np.log(1000), size=ndraw) # AU\n",
    "    ai = np.exp(logai)\n",
    "    a = ai*(1/fcore**2)*((Q+1)/(fcore*Q+1))*np.exp(2*Q*(fcore-1))\n",
    "\n",
    "    return m1, Q, a"
   ]
  },
  {
   "cell_type": "code",
   "execution_count": 7,
   "id": "da9204c2-f830-4258-8235-53cf7c71f083",
   "metadata": {},
   "outputs": [],
   "source": [
    "###########################################\n",
    "# Computing the luminosity of a naked helium star\n",
    "###########################################\n",
    "# Hurley 2000 : the terminal age He-MS luminosity for a stripped star following Hurley\n",
    "def L_THEMS(M_hei):\n",
    "    \"\"\"\n",
    "    Hurley 2000\n",
    "    \"\"\"\n",
    "    # eq. 82\n",
    "    alpha = np.maximum(0, 0.85 - 0.08 * M_hei)\n",
    "\n",
    "    # eq. 77\n",
    "    L_ZHe = (15262 * M_hei**10.25) / (\n",
    "        M_hei**9 + 29.54 * M_hei**7.5 + 31.18 * M_hei**6 + 0.0469\n",
    "    )\n",
    "\n",
    "    # L_THEMS eq. 80\n",
    "    L_THEMS = L_ZHe * (1 + 0.45 + alpha)\n",
    "\n",
    "    return L_THEMS  # L/Lsun\n",
    "\n",
    "\n",
    "def LM_Grafener2011(M, F1=3.017, F2=2.446, F3=-0.306):\n",
    "    \"\"\"Mass Luminosity relation for H-free stars\n",
    "    eq 10 in\n",
    "    https://arxiv.org/pdf/1106.5361.pdf\n",
    "    \"\"\"\n",
    "    logL_Lsun = F1 + F2 * np.log10(M) + F3 * np.log10(M) ** 2\n",
    "    return 10**logL_Lsun"
   ]
  },
  {
   "cell_type": "code",
   "execution_count": 8,
   "id": "7314ed62-69c6-4051-977e-9c2888438c33",
   "metadata": {},
   "outputs": [
    {
     "name": "stdout",
     "output_type": "stream",
     "text": [
      "HamannKoesterke1998 at 1e5Lsun =  -5.5\n",
      "Vink2017 at Zsun and 1e4Lsun =  -7.86\n",
      "SanderVink2020 at Zsun and 2e5Lsun -5.494327973120155\n"
     ]
    }
   ],
   "source": [
    "###########################################\n",
    "# Different wind-mass-loss prescriptions\n",
    "###########################################\n",
    "# Hamman & Koesterke 1998 (old default COMPAS)\n",
    "def HamannKoesterke1998(L, Z, Zsun = 0.014, fWR=1.0):\n",
    "    \"\"\"\n",
    "    Eq 9 from Belczynski 2010\n",
    "    http://arxiv.org/abs/0904.2784\n",
    "    Should be based on Hamann & Koesterke 1998: (based on 62 WN stars)\n",
    "    https://ui.adsabs.harvard.edu/abs/1998A&A...335.1003H/abstract\n",
    "    But I never actually found this equation in here???\n",
    "    \"\"\"\n",
    "    Mdot = fWR * 1e-13 * (L / cons.L_sun) ** 1.5 * (Z / Zsun) ** 0.86\n",
    "    return np.log10(Mdot) # log10 Msun yr^-1\n",
    "\n",
    "print('HamannKoesterke1998 at 1e5Lsun = ', HamannKoesterke1998(1e5*cons.L_sun, 0.014, fWR=1.0) )\n",
    "\n",
    "##################\n",
    "# Vink 2017\n",
    "def Vink2017(L, Z, Zsun=0.014):\n",
    "    \"\"\"\n",
    "    Equation 1 in Vink 2017\n",
    "    Theoretical mass loss rates for He stars in the range 2-20 Msun\n",
    "    https://arxiv.org/abs/1710.02010\n",
    "    Derived for Z/Zsun = 1 − 1e−2 and mass range 2 - 60 Msun\n",
    "    \"\"\"\n",
    "    logL = np.log10(L / cons.L_sun)\n",
    "    logMdot = -13.3 + 1.36 * logL + 0.61 * np.log10(Z / Zsun)\n",
    "\n",
    "    return logMdot\n",
    "\n",
    "print('Vink2017 at Zsun and 1e4Lsun = ', Vink2017(1e4*cons.L_sun, 0.014, Zsun=0.014) )\n",
    "\n",
    "# Sander & Vink 2020\n",
    "def SanderVink2020(L, Z, Zsun = 0.014):\n",
    "    \"\"\"\n",
    "    Eq 13 and 18-20 in Andreas & Vink 2020\n",
    "    https://arxiv.org/abs/2009.01849\n",
    "    \n",
    "    + Temperature correction from Sander et al. 2023\n",
    "    https://www.aanda.org/articles/aa/full_html/2023/02/aa45110-22/aa45110-22.html\n",
    "\n",
    "    !! Takes L in L/Lsun, i.e. 2e5,  (many values return NAN)\n",
    "\n",
    "    \"\"\"\n",
    "    # Mass lumminosity relation for nakeed He stars\n",
    "    # L = 170761.47525570545 #LM_Grafener2011(M, F1 = 3.017, F2=2.446, F3 = -0.306) #L/Lsun\n",
    "    # print('for M = ', M, 'L = ', L)\n",
    "    # general wind mass loss prescription\n",
    "    alpha      = 0.32 * np.log10(Z/Zsun) + 1.4\n",
    "    logL0_Lsun = -0.87*np.log10(Z/Zsun) + 5.06 \n",
    "    logMdot10  = -0.75 * np.log10(Z/Zsun) - 4.06 \n",
    "    \n",
    "    log_Mdot2020   = alpha * np.log10(np.log10(L) - logL0_Lsun) + 0.75 * (np.log10(L) - logL0_Lsun - 1.0) + logMdot10\n",
    "\n",
    "    # Temperature correction to the SanderVink2020 prescription # I dont have Teff for now\n",
    "    # if Teff > 1e5:\n",
    "        # M_SV2023 = M_SV2020 - 6 * np.log10( Teff/(141 *1e3) )\n",
    "    logMdot = log_Mdot2020 #- 6 * np.log10(1e5/(141 *1e3) )\n",
    "\n",
    "    return  logMdot # log10 Msun yr^-1\n",
    "\n",
    "print('SanderVink2020 at Zsun and 2e5Lsun', SanderVink2020(2e5, 0.014, Zsun=0.014) )\n",
    "\n",
    "\n",
    "# Combined WR winds for low and high L combining Vink 2017 + Sander & Vink 2020\n",
    "def WRwind_SV(L, Z, Zsun=0.014):\n",
    "    \"\"\"\n",
    "    Combined WR wind prescription for low and high luminosity\n",
    "    \"\"\"\n",
    "    M_vink2017 = Vink2017(L*cons.L_sun, Z, Zsun=Zsun) #log10(Mdot)\n",
    "    # print('M_vink2017',M_vink2017)\n",
    "    M_SV2020 = SanderVink2020(L, Z, Zsun=Zsun) #log10(Mdot)\n",
    "    # print('M_SV2020', M_SV2020)\n",
    "\n",
    "    # Replace NaN values with small number\n",
    "    M_vink2017 = np.where(np.isnan(M_vink2017), -99, M_vink2017)\n",
    "    M_SV2020 = np.where(np.isnan(M_SV2020), -99, M_SV2020)\n",
    "\n",
    "    return np.maximum(M_vink2017, M_SV2020) #log10(Mdot)"
   ]
  },
  {
   "cell_type": "code",
   "execution_count": 9,
   "id": "0e9a523f-e10c-4735-8c99-6672281b48bc",
   "metadata": {},
   "outputs": [],
   "source": [
    "###########################################\n",
    "# Computing the mass losst \n",
    "###########################################\n",
    "# estimate of total mass lost from WR-like winds during the He-MS phase\n",
    "from cProfile import label\n",
    "\n",
    "\n",
    "def dM_wind(M_He_i, Z, L_hestar = 'Hurley', WR_wind = 'SanderVink'):\n",
    "    \"\"\"\n",
    "    !!! Make sure to provide:\n",
    "    M_he in Msun\n",
    "    Z         ----- Metallicity   \n",
    "    L_hestar  ----- What M-L relation to use ['Hurley', Grafener2011]\n",
    "    WR_wind   ----- What WR wind mass loss to use [HamannKoest, 'SanderVink']\n",
    "    \"\"\"\n",
    "\n",
    "    # Compute He star luminosity from the mass\n",
    "    if L_hestar == 'Hurley':\n",
    "        L_Lsun = L_THEMS(M_He_i)    # 10**5.4 #/cons.L_sun.value # Lsun  (taken from Spera + 2019 SEVN paper, fig 1)\n",
    "    if L_hestar == 'Grafener2011':\n",
    "        L_Lsun = LM_Grafener2011(M_He_i)\n",
    "    # print( 'log10 L_Lsun', np.log10(L_Lsun), '\\n')\n",
    "\n",
    "    # Calculate He main sequence time\n",
    "    tau_He_MS = 2.9e9 * (M_He_i) * L_Lsun**-1 #(L_sun/L)  # in years\n",
    "    # print('tau_He_MS', tau_He_MS*1e-6, 'Myr \\n')\n",
    "\n",
    "    if WR_wind == 'SanderVink':\n",
    "        dotM_WR = 10**WRwind_SV(L_Lsun, Z, Zsun = 0.014)\n",
    "    elif WR_wind == 'HamannKoest':\n",
    "        dotM_WR = 10**HamannKoesterke1998(L_Lsun*cons.L_sun, Z, fWR = 1.).value\n",
    "    else:\n",
    "        raise ValueError('WR wind prescription not recognized')\n",
    "\n",
    "    # print('log $\\dot{M}_{WR}$', np.log10(dotM_WR) )\n",
    "\n",
    "    dM_wind = tau_He_MS * dotM_WR\n",
    "\n",
    "    return dM_wind # Msun"
   ]
  },
  {
   "cell_type": "markdown",
   "id": "713f20fe-e7eb-4791-8847-e041f1039b1b",
   "metadata": {},
   "source": [
    "# Computation"
   ]
  },
  {
   "cell_type": "code",
   "execution_count": 10,
   "id": "65098ab8-8ce6-400e-921a-92fcbebd729a",
   "metadata": {},
   "outputs": [
    {
     "name": "stderr",
     "output_type": "stream",
     "text": [
      "/tmp/ipykernel_2836597/2597507195.py:54: RuntimeWarning: invalid value encountered in log10\n",
      "  log_Mdot2020   = alpha * np.log10(np.log10(L) - logL0_Lsun) + 0.75 * (np.log10(L) - logL0_Lsun - 1.0) + logMdot10\n"
     ]
    }
   ],
   "source": [
    "array_Z = np.logspace(-4, np.log10(0.03), 100)\n",
    "fSN1 = []\n",
    "\n",
    "for Z in array_Z:\n",
    "    \n",
    "    m1_before_mass_loss, Q_before_mass_loss, a_before_mass_loss = func_m1Qa(powerlawindex=2.7, mmin=1.0,\n",
    "    mmax=300.0, mNSmin=6.0, mNSmax=20.0, qmin=0.01, qmax=1.0, \n",
    "    logamin=np.log(0.01), logamax=np.log(1000), fcore=0.35, beta=0.5)\n",
    "    wind_mass_loss = dM_wind(m1_before_mass_loss, Z)\n",
    "\n",
    "    # Correcting for Wind mass loss\n",
    "    m1 = m1_before_mass_loss - wind_mass_loss\n",
    "    Q = (Q_before_mass_loss*m1_before_mass_loss - dM_wind(Q_before_mass_loss*m1_before_mass_loss, Z))/m1\n",
    "    a =  a_before_mass_loss * ((m1_before_mass_loss + Q_before_mass_loss*m1_before_mass_loss) / (m1 + Q*m1))\n",
    "\n",
    "    vorb = func_vorb(m1, Q, a)\n",
    "    vkick = func_vkick(vorb)\n",
    "    vorb = func_vorb(m1, Q, a)\n",
    "    fSN1.append(func_fSN1(vorb, vkick))\n",
    "fSN1 = np.array(fSN1)"
   ]
  },
  {
   "cell_type": "code",
   "execution_count": 11,
   "id": "7d82a7ed-5766-4c1c-a449-a3512cfe96ff",
   "metadata": {},
   "outputs": [
    {
     "data": {
      "text/plain": [
       "Text(0, 0.5, '$f_{SN1}$')"
      ]
     },
     "execution_count": 11,
     "metadata": {},
     "output_type": "execute_result"
    },
    {
     "data": {
      "image/png": "[encoded data removed]",
      "text/plain": [
       "<Figure size 640x480 with 1 Axes>"
      ]
     },
     "metadata": {},
     "output_type": "display_data"
    }
   ],
   "source": [
    "plt.scatter(array_Z, fSN1)\n",
    "plt.xlabel(\"$\\log_{10}(Z/\\mathrm{Z}_{\\odot}$)\", fontsize=30)\n",
    "plt.ylabel(\"$f_{SN1}$\", fontsize=30)\n",
    "#plt.savefig(\"../plots/fSN1metallicity.pdf\", bbox_inches=\"tight\");"
   ]
  },
  {
   "cell_type": "code",
   "execution_count": 12,
   "id": "d83d39a1-ff36-4209-8067-353798992ba3",
   "metadata": {},
   "outputs": [
    {
     "name": "stderr",
     "output_type": "stream",
     "text": [
      "/tmp/ipykernel_2836597/2597507195.py:54: RuntimeWarning: invalid value encountered in log10\n",
      "  log_Mdot2020   = alpha * np.log10(np.log10(L) - logL0_Lsun) + 0.75 * (np.log10(L) - logL0_Lsun - 1.0) + logMdot10\n"
     ]
    }
   ],
   "source": [
    "array_Z = np.logspace(-4, np.log10(0.03), 100)\n",
    "fSN1 = []\n",
    "\n",
    "mmin_final = []\n",
    "mmax_final = []\n",
    "\n",
    "for Z in array_Z:\n",
    "    \n",
    "    m1_before_mass_loss, Q_before_mass_loss, a_before_mass_loss = func_m1Qa(powerlawindex=2.7, mmin=1.0,\n",
    "    mmax=300.0, mNSmin=6.0, mNSmax=20.0, qmin=0.01, qmax=1.0, \n",
    "    logamin=np.log(0.01), logamax=np.log(1000), fcore=0.35, beta=0.5)\n",
    "    wind_mass_loss = dM_wind(m1_before_mass_loss, Z)\n",
    "\n",
    "    mmin_final.append(np.min(m1_before_mass_loss))\n",
    "    mmax_final.append(np.max(m1_before_mass_loss))\n",
    "    \n",
    "    # Correcting for Wind mass loss\n",
    "    m1 = m1_before_mass_loss - wind_mass_loss\n",
    "    Q = (Q_before_mass_loss*m1_before_mass_loss - dM_wind(Q_before_mass_loss*m1_before_mass_loss, Z))/m1\n",
    "    a =  a_before_mass_loss * (m1_before_mass_loss / m1)\n",
    "    \n",
    "fSN1 = np.array(fSN1)"
   ]
  },
  {
   "cell_type": "code",
   "execution_count": 13,
   "id": "c50dc80a-2f97-46d8-bfd3-bf1f50c475f7",
   "metadata": {},
   "outputs": [
    {
     "data": {
      "text/plain": [
       "<matplotlib.collections.PathCollection at 0x15551cb90c40>"
      ]
     },
     "execution_count": 13,
     "metadata": {},
     "output_type": "execute_result"
    },
    {
     "data": {
      "image/png": "[encoded data removed]",
      "text/plain": [
       "<Figure size 640x480 with 1 Axes>"
      ]
     },
     "metadata": {},
     "output_type": "display_data"
    }
   ],
   "source": [
    "plt.scatter(array_Z, mmin_final)\n",
    "plt.scatter(array_Z, mmax_final)"
   ]
  },
  {
   "cell_type": "code",
   "execution_count": null,
   "id": "5998d543-0c26-41e1-b8b0-db53a744e6c1",
   "metadata": {},
   "outputs": [],
   "source": []
  }
 ],
 "metadata": {
  "kernelspec": {
   "display_name": "popcosmo",
   "language": "python",
   "name": "popcosmo"
  },
  "language_info": {
   "codemirror_mode": {
    "name": "ipython",
    "version": 3
   },
   "file_extension": ".py",
   "mimetype": "text/x-python",
   "name": "python",
   "nbconvert_exporter": "python",
   "pygments_lexer": "ipython3",
   "version": "3.10.14"
  }
 },
 "nbformat": 4,
 "nbformat_minor": 5
}
